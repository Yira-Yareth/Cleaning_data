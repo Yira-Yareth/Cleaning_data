{
 "cells": [
  {
   "cell_type": "markdown",
   "metadata": {},
   "source": [
    "## Cleaning Strings\n",
    "\n",
    "we'll be working with the restaurants DataFrame which has data on various restaurants. Our ultimate goal is to create a restaurant recommendation engine, but we need to first clean the data."
   ]
  },
  {
   "cell_type": "code",
   "execution_count": 4,
   "metadata": {},
   "outputs": [],
   "source": [
    "# Import pandas\n",
    "import pandas as pd\n",
    "\n",
    "# Import process from fuzzywuzzy\n",
    "from fuzzywuzzy import process"
   ]
  },
  {
   "cell_type": "code",
   "execution_count": 8,
   "metadata": {},
   "outputs": [
    {
     "name": "stdout",
     "output_type": "stream",
     "text": [
      "<class 'pandas.core.frame.DataFrame'>\n",
      "RangeIndex: 336 entries, 0 to 335\n",
      "Data columns (total 6 columns):\n",
      " #   Column      Non-Null Count  Dtype \n",
      "---  ------      --------------  ----- \n",
      " 0   Unnamed: 0  336 non-null    int64 \n",
      " 1   name        336 non-null    object\n",
      " 2   addr        336 non-null    object\n",
      " 3   city        336 non-null    object\n",
      " 4   phone       336 non-null    int64 \n",
      " 5   type        336 non-null    object\n",
      "dtypes: int64(2), object(4)\n",
      "memory usage: 15.9+ KB\n",
      "None\n",
      "   Unnamed: 0                       name                       addr  \\\n",
      "0           0  arnie morton's of chicago   435 s. la cienega blv .    \n",
      "1           1         art's delicatessen       12224 ventura blvd.    \n",
      "2           2                  campanile       624 s. la brea ave.    \n",
      "3           3                      fenix    8358 sunset blvd. west    \n",
      "4           4         grill on the alley           9560 dayton way    \n",
      "\n",
      "          city       phone      type  \n",
      "0  los angeles  3102461501  american  \n",
      "1  studio city  8187621221  american  \n",
      "2  los angeles  2139381447  american  \n",
      "3    hollywood  2138486677  american  \n",
      "4  los angeles  3102760615  american  \n"
     ]
    }
   ],
   "source": [
    "# Read csv\n",
    "data=pd.read_csv(\"datasets//restaurants_L2.csv\")\n",
    "\n",
    "# Info of csv\n",
    "print(data.info())\n",
    "\n",
    "# Let's see have a look in the data\n",
    "print(data.head())"
   ]
  },
  {
   "cell_type": "code",
   "execution_count": 9,
   "metadata": {},
   "outputs": [
    {
     "name": "stdout",
     "output_type": "stream",
     "text": [
      "['american' 'asian' 'italian' 'coffeebar' 'mexican' 'southwestern'\n",
      " 'steakhouses' 'southern' 'cajun']\n"
     ]
    }
   ],
   "source": [
    "# Store the unique values of cuisine_type in unique_types\n",
    "unique_types = data[\"type\"].unique()\n",
    "\n",
    "# print the unique values\n",
    "print(unique_types)"
   ]
  },
  {
   "cell_type": "markdown",
   "metadata": {},
   "source": []
  }
 ],
 "metadata": {
  "interpreter": {
   "hash": "be9772337e76630d57b874c7eb4812959236d388181218c853d83d1703fa1a09"
  },
  "kernelspec": {
   "display_name": "Python 3.9.7 ('base')",
   "language": "python",
   "name": "python3"
  },
  "language_info": {
   "codemirror_mode": {
    "name": "ipython",
    "version": 3
   },
   "file_extension": ".py",
   "mimetype": "text/x-python",
   "name": "python",
   "nbconvert_exporter": "python",
   "pygments_lexer": "ipython3",
   "version": "3.9.7"
  },
  "orig_nbformat": 4
 },
 "nbformat": 4,
 "nbformat_minor": 2
}
