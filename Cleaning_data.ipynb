{
 "cells": [
  {
   "cell_type": "code",
   "execution_count": 6,
   "metadata": {},
   "outputs": [
    {
     "name": "stdout",
     "output_type": "stream",
     "text": [
      "   Unnamed: 0    duration  station_A_id  \\\n",
      "0           0  12 minutes            81   \n",
      "1           1  24 minutes             3   \n",
      "2           2   8 minutes            67   \n",
      "3           3   4 minutes            16   \n",
      "4           4  11 minutes            22   \n",
      "\n",
      "                                      station_A_name  station_B_id  \\\n",
      "0                                 Berry St at 4th St           323   \n",
      "1       Powell St BART Station (Market St at 4th St)           118   \n",
      "2  San Francisco Caltrain Station 2  (Townsend St...            23   \n",
      "3                            Steuart St at Market St            28   \n",
      "4                              Howard St at Beale St           350   \n",
      "\n",
      "                    station_B_name  bike_id  user_type  user_birth_year  \\\n",
      "0               Broadway at Kearny     5480          2             1959   \n",
      "1  Eureka Valley Recreation Center     5193          2             1965   \n",
      "2    The Embarcadero at Steuart St     3652          3             1993   \n",
      "3     The Embarcadero at Bryant St     1883          1             1979   \n",
      "4             8th St at Brannan St     4626          2             1994   \n",
      "\n",
      "  user_gender  \n",
      "0        Male  \n",
      "1        Male  \n",
      "2        Male  \n",
      "3        Male  \n",
      "4        Male  \n"
     ]
    }
   ],
   "source": [
    "import pandas as pd\n",
    "\n",
    "ride_sharing=pd.read_csv(\"ride_sharing_new.csv\")\n",
    "print(df.head())"
   ]
  },
  {
   "cell_type": "code",
   "execution_count": 10,
   "metadata": {},
   "outputs": [
    {
     "name": "stdout",
     "output_type": "stream",
     "text": [
      "<class 'pandas.core.frame.DataFrame'>\n",
      "RangeIndex: 25760 entries, 0 to 25759\n",
      "Data columns (total 10 columns):\n",
      " #   Column           Non-Null Count  Dtype \n",
      "---  ------           --------------  ----- \n",
      " 0   Unnamed: 0       25760 non-null  int64 \n",
      " 1   duration         25760 non-null  object\n",
      " 2   station_A_id     25760 non-null  int64 \n",
      " 3   station_A_name   25760 non-null  object\n",
      " 4   station_B_id     25760 non-null  int64 \n",
      " 5   station_B_name   25760 non-null  object\n",
      " 6   bike_id          25760 non-null  int64 \n",
      " 7   user_type        25760 non-null  int64 \n",
      " 8   user_birth_year  25760 non-null  int64 \n",
      " 9   user_gender      25760 non-null  object\n",
      "dtypes: int64(6), object(4)\n",
      "memory usage: 2.0+ MB\n",
      "None\n"
     ]
    }
   ],
   "source": [
    "#Print information of ride_sharing\n",
    "print(ride_sharing.info())"
   ]
  },
  {
   "cell_type": "code",
   "execution_count": 11,
   "metadata": {},
   "outputs": [
    {
     "name": "stdout",
     "output_type": "stream",
     "text": [
      "count    25760.000000\n",
      "mean         2.008385\n",
      "std          0.704541\n",
      "min          1.000000\n",
      "25%          2.000000\n",
      "50%          2.000000\n",
      "75%          3.000000\n",
      "max          3.000000\n",
      "Name: user_type, dtype: float64\n"
     ]
    }
   ],
   "source": [
    "# Print summary statistics of user_type column\n",
    "print(ride_sharing['user_type'].describe())"
   ]
  }
 ],
 "metadata": {
  "interpreter": {
   "hash": "be9772337e76630d57b874c7eb4812959236d388181218c853d83d1703fa1a09"
  },
  "kernelspec": {
   "display_name": "Python 3.9.7 64-bit ('base': conda)",
   "language": "python",
   "name": "python3"
  },
  "language_info": {
   "codemirror_mode": {
    "name": "ipython",
    "version": 3
   },
   "file_extension": ".py",
   "mimetype": "text/x-python",
   "name": "python",
   "nbconvert_exporter": "python",
   "pygments_lexer": "ipython3",
   "version": "3.9.7"
  },
  "orig_nbformat": 4
 },
 "nbformat": 4,
 "nbformat_minor": 2
}
