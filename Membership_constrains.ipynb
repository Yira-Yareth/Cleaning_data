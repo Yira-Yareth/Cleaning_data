{
 "cells": [
  {
   "cell_type": "markdown",
   "metadata": {},
   "source": [
    "# DataFrame which contains survey responses on the San Francisco Airport from airline customers.\n"
   ]
  },
  {
   "cell_type": "code",
   "execution_count": 4,
   "metadata": {},
   "outputs": [
    {
     "name": "stdout",
     "output_type": "stream",
     "text": [
      "   Unnamed: 0    id        day      airline        destination    dest_region  \\\n",
      "0           0  1351    Tuesday  UNITED INTL             KANSAI           Asia   \n",
      "1           1   373     Friday       ALASKA  SAN JOSE DEL CABO  Canada/Mexico   \n",
      "2           2  2820   Thursday        DELTA        LOS ANGELES        West US   \n",
      "3           3  1157    Tuesday    SOUTHWEST        LOS ANGELES        West US   \n",
      "4           4  2992  Wednesday     AMERICAN              MIAMI        East US   \n",
      "\n",
      "  dest_size boarding_area   dept_time  wait_min     cleanliness  \\\n",
      "0       Hub  Gates 91-102  2018-12-31     115.0           Clean   \n",
      "1     Small   Gates 50-59  2018-12-31     135.0           Clean   \n",
      "2       Hub   Gates 40-48  2018-12-31      70.0         Average   \n",
      "3       Hub   Gates 20-39  2018-12-31     190.0           Clean   \n",
      "4       Hub   Gates 50-59  2018-12-31     559.0  Somewhat clean   \n",
      "\n",
      "          safety        satisfaction  \n",
      "0        Neutral      Very satisfied  \n",
      "1      Very safe      Very satisfied  \n",
      "2  Somewhat safe             Neutral  \n",
      "3      Very safe  Somewhat satsified  \n",
      "4      Very safe  Somewhat satsified  \n",
      "<class 'pandas.core.frame.DataFrame'>\n",
      "RangeIndex: 2477 entries, 0 to 2476\n",
      "Data columns (total 13 columns):\n",
      " #   Column         Non-Null Count  Dtype  \n",
      "---  ------         --------------  -----  \n",
      " 0   Unnamed: 0     2477 non-null   int64  \n",
      " 1   id             2477 non-null   int64  \n",
      " 2   day            2477 non-null   object \n",
      " 3   airline        2477 non-null   object \n",
      " 4   destination    2477 non-null   object \n",
      " 5   dest_region    2477 non-null   object \n",
      " 6   dest_size      2477 non-null   object \n",
      " 7   boarding_area  2477 non-null   object \n",
      " 8   dept_time      2477 non-null   object \n",
      " 9   wait_min       2477 non-null   float64\n",
      " 10  cleanliness    2477 non-null   object \n",
      " 11  safety         2477 non-null   object \n",
      " 12  satisfaction   2477 non-null   object \n",
      "dtypes: float64(1), int64(2), object(10)\n",
      "memory usage: 251.7+ KB\n",
      "None\n"
     ]
    }
   ],
   "source": [
    "# Import pandas\n",
    "import pandas as pd\n",
    "\n",
    "# Read csv\n",
    "pd=pd.read_csv(\"airlines_final.csv\")\n",
    "\n",
    "# Print head of the DataFrame\n",
    "print(pd.head())"
   ]
  },
  {
   "cell_type": "code",
   "execution_count": 6,
   "metadata": {},
   "outputs": [
    {
     "name": "stdout",
     "output_type": "stream",
     "text": [
      "<class 'pandas.core.frame.DataFrame'>\n",
      "RangeIndex: 2477 entries, 0 to 2476\n",
      "Data columns (total 13 columns):\n",
      " #   Column         Non-Null Count  Dtype  \n",
      "---  ------         --------------  -----  \n",
      " 0   Unnamed: 0     2477 non-null   int64  \n",
      " 1   id             2477 non-null   int64  \n",
      " 2   day            2477 non-null   object \n",
      " 3   airline        2477 non-null   object \n",
      " 4   destination    2477 non-null   object \n",
      " 5   dest_region    2477 non-null   object \n",
      " 6   dest_size      2477 non-null   object \n",
      " 7   boarding_area  2477 non-null   object \n",
      " 8   dept_time      2477 non-null   object \n",
      " 9   wait_min       2477 non-null   float64\n",
      " 10  cleanliness    2477 non-null   object \n",
      " 11  safety         2477 non-null   object \n",
      " 12  satisfaction   2477 non-null   object \n",
      "dtypes: float64(1), int64(2), object(10)\n",
      "memory usage: 251.7+ KB\n",
      "None\n"
     ]
    }
   ],
   "source": [
    "# Print info of the DataFrame\n",
    "print(pd.info())"
   ]
  }
 ],
 "metadata": {
  "interpreter": {
   "hash": "be9772337e76630d57b874c7eb4812959236d388181218c853d83d1703fa1a09"
  },
  "kernelspec": {
   "display_name": "Python 3.9.7 64-bit ('base': conda)",
   "language": "python",
   "name": "python3"
  },
  "language_info": {
   "codemirror_mode": {
    "name": "ipython",
    "version": 3
   },
   "file_extension": ".py",
   "mimetype": "text/x-python",
   "name": "python",
   "nbconvert_exporter": "python",
   "pygments_lexer": "ipython3",
   "version": "3.9.7"
  },
  "orig_nbformat": 4
 },
 "nbformat": 4,
 "nbformat_minor": 2
}
