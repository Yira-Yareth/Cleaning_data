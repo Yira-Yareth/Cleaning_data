{
 "cells": [
  {
   "cell_type": "markdown",
   "metadata": {},
   "source": [
    "# DataFrame which contains survey responses on the San Francisco Airport from airline customers.\n",
    "\n",
    "In this notebook we will practice how to deal with dirty data and clean strings\n"
   ]
  },
  {
   "cell_type": "code",
   "execution_count": 27,
   "metadata": {},
   "outputs": [
    {
     "name": "stdout",
     "output_type": "stream",
     "text": [
      "   Unnamed: 0    id        day      airline        destination    dest_region  \\\n",
      "0           0  1351    Tuesday  UNITED INTL             KANSAI           Asia   \n",
      "1           1   373     Friday       ALASKA  SAN JOSE DEL CABO  Canada/Mexico   \n",
      "2           2  2820   Thursday        DELTA        LOS ANGELES        West US   \n",
      "3           3  1157    Tuesday    SOUTHWEST        LOS ANGELES        West US   \n",
      "4           4  2992  Wednesday     AMERICAN              MIAMI        East US   \n",
      "\n",
      "  dest_size boarding_area   dept_time  wait_min     cleanliness  \\\n",
      "0       Hub  Gates 91-102  2018-12-31     115.0           Clean   \n",
      "1     Small   Gates 50-59  2018-12-31     135.0           Clean   \n",
      "2       Hub   Gates 40-48  2018-12-31      70.0         Average   \n",
      "3       Hub   Gates 20-39  2018-12-31     190.0           Clean   \n",
      "4       Hub   Gates 50-59  2018-12-31     559.0  Somewhat clean   \n",
      "\n",
      "          safety        satisfaction  \n",
      "0        Neutral      Very satisfied  \n",
      "1      Very safe      Very satisfied  \n",
      "2  Somewhat safe             Neutral  \n",
      "3      Very safe  Somewhat satsified  \n",
      "4      Very safe  Somewhat satsified  \n"
     ]
    }
   ],
   "source": [
    "# Import pandas\n",
    "import pandas as pd\n",
    "\n",
    "#Import numpy\n",
    "import numpy as np\n",
    "\n",
    "# Read csv\n",
    "airlines=pd.read_csv(\"datasets//airlines_final.csv\")\n",
    "\n",
    "# Print head of the DataFrame\n",
    "print(airlines.head())"
   ]
  },
  {
   "cell_type": "code",
   "execution_count": 2,
   "metadata": {},
   "outputs": [
    {
     "name": "stdout",
     "output_type": "stream",
     "text": [
      "<class 'pandas.core.frame.DataFrame'>\n",
      "RangeIndex: 2477 entries, 0 to 2476\n",
      "Data columns (total 13 columns):\n",
      " #   Column         Non-Null Count  Dtype  \n",
      "---  ------         --------------  -----  \n",
      " 0   Unnamed: 0     2477 non-null   int64  \n",
      " 1   id             2477 non-null   int64  \n",
      " 2   day            2477 non-null   object \n",
      " 3   airline        2477 non-null   object \n",
      " 4   destination    2477 non-null   object \n",
      " 5   dest_region    2477 non-null   object \n",
      " 6   dest_size      2477 non-null   object \n",
      " 7   boarding_area  2477 non-null   object \n",
      " 8   dept_time      2477 non-null   object \n",
      " 9   wait_min       2477 non-null   float64\n",
      " 10  cleanliness    2477 non-null   object \n",
      " 11  safety         2477 non-null   object \n",
      " 12  satisfaction   2477 non-null   object \n",
      "dtypes: float64(1), int64(2), object(10)\n",
      "memory usage: 251.7+ KB\n",
      "None\n"
     ]
    }
   ],
   "source": [
    "# Print info of the DataFrame\n",
    "print(airlines.info())"
   ]
  },
  {
   "cell_type": "code",
   "execution_count": 3,
   "metadata": {},
   "outputs": [
    {
     "name": "stdout",
     "output_type": "stream",
     "text": [
      "       cleanliness           safety          satisfaction\n",
      "0            Clean          Neutral        Very satisfied\n",
      "1          Average        Very safe               Neutral\n",
      "2  Somewhat clean     Somewhat safe    Somewhat satisfied\n",
      "3   Somewhat dirty      Very unsafe  Somewhat unsatisfied\n",
      "4            Dirty  Somewhat unsafe      Very unsatisfied\n"
     ]
    }
   ],
   "source": [
    "# Create a DataFrame with the categories of the survey\n",
    "\n",
    "data= {\"cleanliness\":[\"Clean\",\"Average\",\"Somewhat clean \",\"Somewhat dirty\",\"Dirty\"],\"safety\":[\"Neutral\",\"Very safe\",\"Somewhat safe\",\"Very unsafe\",\"Somewhat unsafe\"],\n",
    "       \"satisfaction\":[\"Very satisfied\",\"Neutral\",\"Somewhat satisfied\",\"Somewhat unsatisfied\",\"Very unsatisfied\"]}\n",
    "       \n",
    "#print the new DataDrame\n",
    "categories=pd.DataFrame(data)\n",
    "print(categories)"
   ]
  },
  {
   "cell_type": "code",
   "execution_count": 4,
   "metadata": {},
   "outputs": [
    {
     "name": "stdout",
     "output_type": "stream",
     "text": [
      "Cleanliness:  ['Clean' 'Average' 'Somewhat clean' 'Somewhat dirty' 'Dirty'] \n",
      "\n",
      "Safety:  ['Neutral' 'Very safe' 'Somewhat safe' 'Very unsafe' 'Somewhat unsafe'] \n",
      "\n",
      "Satisfaction:  ['Very satisfied' 'Neutral' 'Somewhat satsified' 'Somewhat unsatisfied'\n",
      " 'Very unsatisfied'] \n",
      "\n"
     ]
    }
   ],
   "source": [
    "# Print unique values of survey columns in airlines\n",
    "\n",
    "print('Cleanliness: ', airlines['cleanliness'].unique(), \"\\n\")\n",
    "print('Safety: ', airlines['safety'].unique(), \"\\n\")\n",
    "print('Satisfaction: ', airlines['satisfaction'].unique(), \"\\n\")"
   ]
  },
  {
   "cell_type": "code",
   "execution_count": 5,
   "metadata": {},
   "outputs": [
    {
     "name": "stdout",
     "output_type": "stream",
     "text": [
      "      Unnamed: 0    id        day         airline   destination  \\\n",
      "4              4  2992  Wednesday        AMERICAN         MIAMI   \n",
      "5              5   634   Thursday          ALASKA        NEWARK   \n",
      "7              8  2592   Saturday      AEROMEXICO   MEXICO CITY   \n",
      "8              9   919     Friday      AIR CANADA       TORONTO   \n",
      "11            12  2648   Saturday         JETBLUE        BOSTON   \n",
      "...          ...   ...        ...             ...           ...   \n",
      "2466        2798  3099     Sunday          ALASKA        NEWARK   \n",
      "2468        2800  1942    Tuesday          UNITED        BOSTON   \n",
      "2469        2801  2130   Thursday  CATHAY PACIFIC     HONG KONG   \n",
      "2471        2803  2888  Wednesday          UNITED        AUSTIN   \n",
      "2472        2804  1475    Tuesday          ALASKA  NEW YORK-JFK   \n",
      "\n",
      "        dest_region  dest_size boarding_area   dept_time  wait_min  \\\n",
      "4           East US        Hub   Gates 50-59  2018-12-31     559.0   \n",
      "5           East US        Hub   Gates 50-59  2018-12-31     140.0   \n",
      "7     Canada/Mexico        Hub    Gates 1-12  2018-12-31     215.0   \n",
      "8     Canada/Mexico        Hub  Gates 91-102  2018-12-31      70.0   \n",
      "11          East US      Large    Gates 1-12  2018-12-31     192.0   \n",
      "...             ...        ...           ...         ...       ...   \n",
      "2466        East US        Hub   Gates 50-59  2018-12-31     105.0   \n",
      "2468        EAST US      Large   Gates 70-90  2018-12-31     145.0   \n",
      "2469           Asia        Hub    Gates 1-12  2018-12-31     380.0   \n",
      "2471     Midwest US     Medium   Gates 70-90  2018-12-31      60.0   \n",
      "2472        East US        Hub   Gates 50-59  2018-12-31     280.0   \n",
      "\n",
      "         cleanliness           safety        satisfaction  \n",
      "4     Somewhat clean        Very safe  Somewhat satsified  \n",
      "5     Somewhat clean        Very safe      Very satisfied  \n",
      "7     Somewhat clean        Very safe             Neutral  \n",
      "8     Somewhat clean    Somewhat safe  Somewhat satsified  \n",
      "11    Somewhat clean        Very safe  Somewhat satsified  \n",
      "...              ...              ...                 ...  \n",
      "2466  Somewhat clean        Very safe  Somewhat satsified  \n",
      "2468  Somewhat clean    Somewhat safe  Somewhat satsified  \n",
      "2469  Somewhat clean    Somewhat safe  Somewhat satsified  \n",
      "2471  Somewhat clean  Somewhat unsafe  Somewhat satsified  \n",
      "2472  Somewhat clean          Neutral  Somewhat satsified  \n",
      "\n",
      "[1175 rows x 13 columns]\n"
     ]
    }
   ],
   "source": [
    "# Create a set out of the cleanliness column in airlines using set() and find the inconsistent category by finding the difference in the cleanliness column of categories\n",
    "cat_clean = set(airlines[\"cleanliness\"]).difference(categories[\"cleanliness\"])\n",
    "\n",
    "# Find rows with that category\n",
    "cat_clean_rows = airlines['cleanliness'].isin(cat_clean)\n",
    "\n",
    "# Print rows with inconsistent category\n",
    "print(airlines[cat_clean_rows])"
   ]
  },
  {
   "cell_type": "code",
   "execution_count": 6,
   "metadata": {},
   "outputs": [
    {
     "name": "stdout",
     "output_type": "stream",
     "text": [
      "      Unnamed: 0    id       day        airline        destination  \\\n",
      "0              0  1351   Tuesday    UNITED INTL             KANSAI   \n",
      "1              1   373    Friday         ALASKA  SAN JOSE DEL CABO   \n",
      "2              2  2820  Thursday          DELTA        LOS ANGELES   \n",
      "3              3  1157   Tuesday      SOUTHWEST        LOS ANGELES   \n",
      "6              6  2578  Saturday        JETBLUE         LONG BEACH   \n",
      "...          ...   ...       ...            ...                ...   \n",
      "2470        2802   394    Friday         ALASKA        LOS ANGELES   \n",
      "2473        2805  2222  Thursday      SOUTHWEST            PHOENIX   \n",
      "2474        2806  2684    Friday         UNITED            ORLANDO   \n",
      "2475        2807  2549   Tuesday        JETBLUE         LONG BEACH   \n",
      "2476        2808  2162  Saturday  CHINA EASTERN            QINGDAO   \n",
      "\n",
      "        dest_region dest_size boarding_area   dept_time  wait_min cleanliness  \\\n",
      "0              Asia       Hub  Gates 91-102  2018-12-31     115.0       Clean   \n",
      "1     Canada/Mexico     Small   Gates 50-59  2018-12-31     135.0       Clean   \n",
      "2           West US       Hub   Gates 40-48  2018-12-31      70.0     Average   \n",
      "3           West US       Hub   Gates 20-39  2018-12-31     190.0       Clean   \n",
      "6           West US     Small    Gates 1-12  2018-12-31      63.0       Clean   \n",
      "...             ...       ...           ...         ...       ...         ...   \n",
      "2470        West US       Hub   Gates 50-59  2018-12-31     115.0       Clean   \n",
      "2473        West US       Hub   Gates 20-39  2018-12-31     165.0       Clean   \n",
      "2474        East US       Hub   Gates 70-90  2018-12-31      92.0       Clean   \n",
      "2475        West US     Small    Gates 1-12  2018-12-31      95.0       Clean   \n",
      "2476           Asia     Large    Gates 1-12  2018-12-31     220.0       Clean   \n",
      "\n",
      "             safety        satisfaction  \n",
      "0           Neutral      Very satisfied  \n",
      "1         Very safe      Very satisfied  \n",
      "2     Somewhat safe             Neutral  \n",
      "3         Very safe  Somewhat satsified  \n",
      "6         Very safe  Somewhat satsified  \n",
      "...             ...                 ...  \n",
      "2470      Very safe      Very satisfied  \n",
      "2473      Very safe      Very satisfied  \n",
      "2474      Very safe      Very satisfied  \n",
      "2475  Somewhat safe      Very satisfied  \n",
      "2476      Very safe  Somewhat satsified  \n",
      "\n",
      "[1302 rows x 13 columns]\n"
     ]
    }
   ],
   "source": [
    "# Print rows with consistent categories only\n",
    "print(airlines[~cat_clean_rows])"
   ]
  },
  {
   "cell_type": "markdown",
   "metadata": {},
   "source": [
    "## Incosistent Categories"
   ]
  },
  {
   "cell_type": "code",
   "execution_count": 7,
   "metadata": {},
   "outputs": [
    {
     "name": "stdout",
     "output_type": "stream",
     "text": [
      "['Asia' 'Canada/Mexico' 'West US' 'East US' 'Midwest US' 'EAST US'\n",
      " 'Middle East' 'Europe' 'eur' 'Central/South America'\n",
      " 'Australia/New Zealand' 'middle east']\n",
      "['Hub' 'Small' '    Hub' 'Medium' 'Large' 'Hub     ' '    Small'\n",
      " 'Medium     ' '    Medium' 'Small     ' '    Large' 'Large     ']\n"
     ]
    }
   ],
   "source": [
    "# Print unique values for \"dest_region\"\n",
    "print(airlines['dest_region'].unique())\n",
    "\n",
    "# Print unique values for \"dest_size\"\n",
    "print(airlines['dest_size'].unique())"
   ]
  },
  {
   "cell_type": "markdown",
   "metadata": {},
   "source": [
    "Look how the \"dest_region\" column has inconsistent values due to capitalization and has one value that needs to be remapped. Also the \"dest_size\" column has only inconsistent values due to leading and trailing spaces."
   ]
  },
  {
   "cell_type": "code",
   "execution_count": 8,
   "metadata": {},
   "outputs": [
    {
     "name": "stdout",
     "output_type": "stream",
     "text": [
      "['asia' 'canada/mexico' 'west us' 'east us' 'midwest us' 'middle east'\n",
      " 'europe' 'central/south america' 'australia/new zealand']\n"
     ]
    }
   ],
   "source": [
    "#Change the capitalization of all values of dest_region to lowercase.\n",
    "airlines['dest_region'] = airlines['dest_region'].str.lower()\n",
    "\n",
    "#Replace the 'eur' with 'europe' in dest_region using the .replace() method.\n",
    "airlines['dest_region'] = airlines['dest_region'].replace({'eur':'europe'})\n",
    "\n",
    "# Verify changes have been effected\n",
    "print(airlines['dest_region'].unique())"
   ]
  },
  {
   "cell_type": "code",
   "execution_count": 9,
   "metadata": {},
   "outputs": [
    {
     "name": "stdout",
     "output_type": "stream",
     "text": [
      "['Hub' 'Small' 'Medium' 'Large']\n"
     ]
    }
   ],
   "source": [
    "# Remove white spaces from `dest_size`\n",
    "airlines['dest_size'] = airlines['dest_size'].str.strip()\n",
    "\n",
    "# Verify changes have been effected\n",
    "print(airlines['dest_size'].unique())"
   ]
  },
  {
   "cell_type": "markdown",
   "metadata": {},
   "source": [
    "## Remapping categories"
   ]
  },
  {
   "cell_type": "markdown",
   "metadata": {},
   "source": [
    "The airlines DataFrame contains the day and \"wait_min\" columns, which are categorical and numerical respectively. The day column contains the exact day a flight took place, and \"wait_min\" contains the amount of minutes it took travelers to wait at the gate. To make your analysis easier, you want to create two new categorical variables:\n",
    "\n",
    "- wait_type: 'short' for 0-60 min, 'medium' for 60-180 and long for 180+\n",
    "\n",
    "- day_week: 'weekday' if day is in the weekday, 'weekend' if day is in the weekend"
   ]
  },
  {
   "cell_type": "code",
   "execution_count": 10,
   "metadata": {},
   "outputs": [
    {
     "name": "stdout",
     "output_type": "stream",
     "text": [
      "['weekday' 'weekend']\n"
     ]
    }
   ],
   "source": [
    "# Create ranges for categories\n",
    "label_ranges = [0, 60, 180, np.inf]\n",
    "label_names = ['short', \"medium\", \"long\"]\n",
    "\n",
    "# Create wait_type column\n",
    "airlines['wait_type'] = pd.cut(airlines['wait_min'], bins = label_ranges, \n",
    "                                labels = label_names)\n",
    "\n",
    "# Create mappings and replace\n",
    "mappings = {'Monday':'weekday', 'Tuesday':'weekday', 'Wednesday': 'weekday', \n",
    "            'Thursday': 'weekday', 'Friday': 'weekday', \n",
    "            'Saturday': 'weekend', 'Sunday': 'weekend'}\n",
    "\n",
    "airlines['day_week'] = airlines['day'].replace(mappings)\n",
    "\n",
    "# Verify changes have been effected\n",
    "print(airlines['day_week'].unique())"
   ]
  }
 ],
 "metadata": {
  "interpreter": {
   "hash": "be9772337e76630d57b874c7eb4812959236d388181218c853d83d1703fa1a09"
  },
  "kernelspec": {
   "display_name": "Python 3.9.7 64-bit ('base': conda)",
   "language": "python",
   "name": "python3"
  },
  "language_info": {
   "codemirror_mode": {
    "name": "ipython",
    "version": 3
   },
   "file_extension": ".py",
   "mimetype": "text/x-python",
   "name": "python",
   "nbconvert_exporter": "python",
   "pygments_lexer": "ipython3",
   "version": "3.9.7"
  },
  "orig_nbformat": 4
 },
 "nbformat": 4,
 "nbformat_minor": 2
}
